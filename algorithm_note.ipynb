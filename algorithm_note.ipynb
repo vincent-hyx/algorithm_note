{
 "cells": [
  {
   "attachments": {},
   "cell_type": "markdown",
   "id": "e65c55f3-c3a8-407b-bd11-05ae616c0fdd",
   "metadata": {},
   "source": [
    "# 优化器\n",
    "note:阶数为梯度的幂 \n",
    "1. moment-SGD\n",
    "增加一阶动量，考虑之前或者上一时间步的梯度方向，帮助越过一些局部最优，通用表达如下：\n",
    "$$\n",
    "m_{k} = \\beta m_{k-1} + (1 - \\beta)g\n",
    "$$\n",
    "3. RMSprop优化器，二阶动量，解决自适应学习率的问题，通常作为梯度的系数的分母，在更新过程中，该值会变得越来越大，更新幅度就会越来越小。具体实现为，通过移动平均加权，对当前二阶梯度值和上一步二阶动量加权，避免某一步梯度过大，导致后续更新的步长越来越小。\n",
    "4. adam优化器，结合一阶动量和二阶动量的优点，更新步长为一阶动量除以二阶动量。另外，adam中一个重要的问题是刚启动的问题，名为偏差校正，即当前一阶动量和二阶动量要除以$1-\\beta^{k}$。k是时间步，随着时间步增大，开始阶段放大一阶动量和二阶动量，是其接近期望的估计值，但随着k增大，其影响越来越小。公式如下：\n",
    "\n",
    "$$\n",
    "g = \\nabla_{\\theta_{k-1}}L(\\theta)\n",
    "$$\n",
    "$$\n",
    "m_{k} = \\beta_{1} m_{k-1} + (1 - \\beta_{1})g\n",
    "$$\n",
    "$$\n",
    "v{k} = \\beta_{2} v_{k-1} + (1 - \\beta_{2})g \\odot g \n",
    "$$\n",
    "$$\n",
    "\\hat{m_{k}} = m_{k}/(1-\\beta_{1}^{k}), \\quad \\hat{v_{k}} = v_{k}/(1-\\beta_{2}^{k})\n",
    "$$\n",
    "$$\n",
    "\\theta_{k} = \\theta_{k-1} - \\eta \\frac{\\hat{m_{k}}}{\\hat{v_{k}} + \\epsilon}\n",
    "$$\n",
    "$eta$是lr, 自适应调整部分是$\\hat{m_{k}}/(\\hat{v_{k}} + \\epsilon）$\n",
    "# 归一化\n",
    "### BN、LN、RMSNorm\n",
    "- BN：batch size维度上reduce\n",
    "- LN：hidden state 维度上reduce\n",
    " $$\n",
    " x_{i} = \\frac{x_{i} - \\mathbb{E}[X]}{\\sqrt{Var[X]} + \\epsilon} \\cdot \\gamma + \\beta\n",
    " $$  \n",
    "- RMSnorm(llama)：\n",
    "LN的变体，区别与LN的是，其去中心化，每个token特征的维度各有各的中心，即不减均值，也不算方差，仅仅除以特征值的二阶矩估计量，再按位乘以一个特征维度大小的可学习参数，省略均值和方差的计算，有加速的效果。\n",
    " $$\n",
    " x_{i} = \\frac{x_{i}}{\\sqrt{\\sum_{i}^{d} x_{i}^{2}} + \\epsilon}\\cdot \\gamma\n",
    " $$  \n",
    "- post-norm：先残差后norm，pre-norm:先norm后残差\n",
    "- pre不如post的直观原因：pre使得第一层和最后一层的值很像，而post会放突出每层的特性，所以post网络更具表达性\n",
    "  \n",
    "# 面试题\n",
    "![面试题-Li](./algo_img/interview.png) "
   ]
  },
  {
   "cell_type": "code",
   "execution_count": null,
   "id": "c0aa01df-953e-4a16-8715-567b33c0ac41",
   "metadata": {},
   "outputs": [],
   "source": []
  }
 ],
 "metadata": {
  "kernelspec": {
   "display_name": "Python 3 (ipykernel)",
   "language": "python",
   "name": "python3"
  },
  "language_info": {
   "codemirror_mode": {
    "name": "ipython",
    "version": 3
   },
   "file_extension": ".py",
   "mimetype": "text/x-python",
   "name": "python",
   "nbconvert_exporter": "python",
   "pygments_lexer": "ipython3",
   "version": "3.8.19"
  }
 },
 "nbformat": 4,
 "nbformat_minor": 5
}
